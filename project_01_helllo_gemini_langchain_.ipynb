{
  "nbformat": 4,
  "nbformat_minor": 0,
  "metadata": {
    "colab": {
      "provenance": [],
      "authorship_tag": "ABX9TyMq9xff2sP4xxrQa7RSV0zE",
      "include_colab_link": true
    },
    "kernelspec": {
      "name": "python3",
      "display_name": "Python 3"
    },
    "language_info": {
      "name": "python"
    }
  },
  "cells": [
    {
      "cell_type": "markdown",
      "metadata": {
        "id": "view-in-github",
        "colab_type": "text"
      },
      "source": [
        "<a href=\"https://colab.research.google.com/github/M-Saneh/lagchain_project01/blob/main/project_01_helllo_gemini_langchain_.ipynb\" target=\"_parent\"><img src=\"https://colab.research.google.com/assets/colab-badge.svg\" alt=\"Open In Colab\"/></a>"
      ]
    },
    {
      "cell_type": "markdown",
      "source": [],
      "metadata": {
        "id": "g-mZiRiUaNLx"
      }
    },
    {
      "cell_type": "code",
      "source": [
        "# DOCOMUNTATION AND FUNCTIONALITY :\n",
        "\n",
        "# This project integrates LangChain with Google Generative AI to create an AI pipeline for generating dynamic responses.\n",
        "\n",
        "# Key Features:\n",
        "# - Retrieves Google API key securely from Colab environment.\n",
        "# - Configures the Gemini Flash Model with custom parameters.\n",
        "# - Uses a prompt template to generate AI-driven outputs.\n",
        "# - Demonstrates usage with an example query for interesting facts."
      ],
      "metadata": {
        "id": "Gy9SG6XFaDZ0"
      },
      "execution_count": 12,
      "outputs": []
    },
    {
      "cell_type": "code",
      "execution_count": 2,
      "metadata": {
        "id": "8YG4GaKBVMsK"
      },
      "outputs": [],
      "source": [
        "from google.colab import userdata           #retrieving the Google API key stored in the Colab environment\n",
        "GEMINI_API_KEY = userdata.get('GOOGLE_API_KEY')"
      ]
    },
    {
      "cell_type": "code",
      "source": [
        "!pip install -qU langchain_google_genai   #upgrading and installing the langchain_google_genai library (-qU is a linux flag)"
      ],
      "metadata": {
        "colab": {
          "base_uri": "https://localhost:8080/"
        },
        "id": "8x7YkLccW6c1",
        "outputId": "0799ac59-a5ca-47af-ff8c-91e7181e716a"
      },
      "execution_count": 1,
      "outputs": [
        {
          "output_type": "stream",
          "name": "stdout",
          "text": [
            "\u001b[?25l   \u001b[90m━━━━━━━━━━━━━━━━━━━━━━━━━━━━━━━━━━━━━━━━\u001b[0m \u001b[32m0.0/41.3 kB\u001b[0m \u001b[31m?\u001b[0m eta \u001b[36m-:--:--\u001b[0m\r\u001b[2K   \u001b[90m━━━━━━━━━━━━━━━━━━━━━━━━━━━━━━━━━━━━━━━━\u001b[0m \u001b[32m41.3/41.3 kB\u001b[0m \u001b[31m1.2 MB/s\u001b[0m eta \u001b[36m0:00:00\u001b[0m\n",
            "\u001b[?25h"
          ]
        }
      ]
    },
    {
      "cell_type": "code",
      "source": [
        "from langchain_google_genai import GoogleGenerativeAI  #Setting  Up the Environment\n",
        "from langchain.prompts import PromptTemplate\n"
      ],
      "metadata": {
        "id": "h9vwJJmaXWMc"
      },
      "execution_count": 3,
      "outputs": []
    },
    {
      "cell_type": "code",
      "source": [
        "prompt_one = PromptTemplate (              # Creating a Prompt Template\n",
        "    input_variables = [\"question\"],\n",
        "    template = \"Tell me 5 interesting facts about {question}\"\n",
        ")"
      ],
      "metadata": {
        "id": "9kBPA8ftQMMH"
      },
      "execution_count": 5,
      "outputs": []
    },
    {
      "cell_type": "code",
      "source": [
        "llm = GoogleGenerativeAI(      # Configuring the Gemini Flash Model 2.0-flash (other models can also be used !)\n",
        "    api_key = GEMINI_API_KEY,\n",
        "    model = \"gemini-2.0-flash-exp\",\n",
        "    temperature=0.4,\n",
        "    max_tokens=500\n",
        ")"
      ],
      "metadata": {
        "id": "xH2mHOHFYR79"
      },
      "execution_count": 8,
      "outputs": []
    },
    {
      "cell_type": "code",
      "source": [
        "first_chain = prompt_one | llm  # Building LangChain Pipeline"
      ],
      "metadata": {
        "id": "rnNoxIvLSVxx"
      },
      "execution_count": 7,
      "outputs": []
    },
    {
      "cell_type": "code",
      "source": [
        "response  = first_chain.invoke({\"question\" : \"islamabad\"})   #Running Example (code)\n",
        "print(response)"
      ],
      "metadata": {
        "colab": {
          "base_uri": "https://localhost:8080/"
        },
        "id": "bFKtm6mjZJ8Y",
        "outputId": "194bc5d0-ea24-4e06-a7e5-ab29aa731a83"
      },
      "execution_count": 16,
      "outputs": [
        {
          "output_type": "stream",
          "name": "stdout",
          "text": [
            "Okay, here are 5 facts about Islamabad, the capital city of Pakistan:\n",
            "\n",
            "1. **Planned City:** Islamabad is a relatively young and meticulously planned city. Unlike many other major cities in the region that grew organically, Islamabad was designed from the ground up in the 1960s by a Greek firm, Doxiadis Associates. This planning is evident in its grid-like street layout, abundant green spaces, and distinct sectors.\n",
            "\n",
            "2. **Capital City:** Islamabad replaced Karachi as the capital of Pakistan in 1960. The decision to move the capital was driven by several factors, including the desire for a more centrally located and less crowded administrative hub. It was also intended to be a symbol of a new, modern Pakistan.\n",
            "\n",
            "3. **Green and Hilly:** Islamabad is known for its lush greenery and the backdrop of the Margalla Hills. The city has a large number of parks, gardens, and tree-lined avenues, contributing to its reputation as a green and relatively clean city compared to other urban centers in Pakistan. The Margalla Hills National Park, located just north of the city, provides opportunities for hiking and enjoying nature.\n",
            "\n",
            "4. **Diplomatic Enclave:** Islamabad is home to a large diplomatic enclave, housing embassies and high commissions from around the world. This area is heavily guarded and has a distinct character, reflecting the city's role as a center of international relations.\n",
            "\n",
            "5. **Diverse Population:** While the city was initially designed to house government employees, Islamabad has grown into a diverse urban center. It attracts people from all over Pakistan, resulting in a mix of cultures, languages, and backgrounds. This diversity is reflected in the city's cuisine, markets, and social life.\n",
            "\n"
          ]
        }
      ]
    }
  ]
}